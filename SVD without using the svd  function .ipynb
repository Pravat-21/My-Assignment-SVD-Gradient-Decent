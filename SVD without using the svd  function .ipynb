{
 "cells": [
  {
   "cell_type": "markdown",
   "id": "3aaeec3c",
   "metadata": {},
   "source": [
    "enrollment No- 2021MSBDA032  , Assignment No -2"
   ]
  },
  {
   "cell_type": "markdown",
   "id": "12ffb9a4",
   "metadata": {},
   "source": [
    "# Computing the Singular Value Decomposition (SVD) without using svd function "
   ]
  },
  {
   "cell_type": "code",
   "execution_count": 43,
   "id": "1146e990",
   "metadata": {},
   "outputs": [],
   "source": [
    "import pandas as pd      # importing pandas,numpy and norm  for use purpose:\n",
    "import numpy as np\n",
    "from numpy.linalg import norm\n",
    "my_data=pd.read_csv(r\"C:\\Users\\DELL\\Downloads\\Untitled spreadsheet - Sheet1.csv\") # importing my data from my file "
   ]
  },
  {
   "cell_type": "code",
   "execution_count": 44,
   "id": "ed44cf12",
   "metadata": {},
   "outputs": [
    {
     "data": {
      "text/html": [
       "<div>\n",
       "<style scoped>\n",
       "    .dataframe tbody tr th:only-of-type {\n",
       "        vertical-align: middle;\n",
       "    }\n",
       "\n",
       "    .dataframe tbody tr th {\n",
       "        vertical-align: top;\n",
       "    }\n",
       "\n",
       "    .dataframe thead th {\n",
       "        text-align: right;\n",
       "    }\n",
       "</style>\n",
       "<table border=\"1\" class=\"dataframe\">\n",
       "  <thead>\n",
       "    <tr style=\"text-align: right;\">\n",
       "      <th></th>\n",
       "      <th>Serial.No</th>\n",
       "      <th>Age</th>\n",
       "      <th>Hours</th>\n",
       "      <th>Pages</th>\n",
       "    </tr>\n",
       "  </thead>\n",
       "  <tbody>\n",
       "    <tr>\n",
       "      <th>0</th>\n",
       "      <td>1</td>\n",
       "      <td>22</td>\n",
       "      <td>9</td>\n",
       "      <td>110</td>\n",
       "    </tr>\n",
       "    <tr>\n",
       "      <th>1</th>\n",
       "      <td>2</td>\n",
       "      <td>32</td>\n",
       "      <td>12</td>\n",
       "      <td>121</td>\n",
       "    </tr>\n",
       "    <tr>\n",
       "      <th>2</th>\n",
       "      <td>3</td>\n",
       "      <td>21</td>\n",
       "      <td>7</td>\n",
       "      <td>80</td>\n",
       "    </tr>\n",
       "    <tr>\n",
       "      <th>3</th>\n",
       "      <td>4</td>\n",
       "      <td>22</td>\n",
       "      <td>8</td>\n",
       "      <td>88</td>\n",
       "    </tr>\n",
       "    <tr>\n",
       "      <th>4</th>\n",
       "      <td>5</td>\n",
       "      <td>32</td>\n",
       "      <td>10</td>\n",
       "      <td>90</td>\n",
       "    </tr>\n",
       "    <tr>\n",
       "      <th>5</th>\n",
       "      <td>6</td>\n",
       "      <td>44</td>\n",
       "      <td>11</td>\n",
       "      <td>102</td>\n",
       "    </tr>\n",
       "    <tr>\n",
       "      <th>6</th>\n",
       "      <td>7</td>\n",
       "      <td>22</td>\n",
       "      <td>12</td>\n",
       "      <td>109</td>\n",
       "    </tr>\n",
       "    <tr>\n",
       "      <th>7</th>\n",
       "      <td>8</td>\n",
       "      <td>56</td>\n",
       "      <td>10</td>\n",
       "      <td>98</td>\n",
       "    </tr>\n",
       "    <tr>\n",
       "      <th>8</th>\n",
       "      <td>9</td>\n",
       "      <td>72</td>\n",
       "      <td>9</td>\n",
       "      <td>81</td>\n",
       "    </tr>\n",
       "    <tr>\n",
       "      <th>9</th>\n",
       "      <td>10</td>\n",
       "      <td>10</td>\n",
       "      <td>6</td>\n",
       "      <td>53</td>\n",
       "    </tr>\n",
       "    <tr>\n",
       "      <th>10</th>\n",
       "      <td>11</td>\n",
       "      <td>22</td>\n",
       "      <td>7</td>\n",
       "      <td>61</td>\n",
       "    </tr>\n",
       "    <tr>\n",
       "      <th>11</th>\n",
       "      <td>12</td>\n",
       "      <td>23</td>\n",
       "      <td>8</td>\n",
       "      <td>77</td>\n",
       "    </tr>\n",
       "    <tr>\n",
       "      <th>12</th>\n",
       "      <td>13</td>\n",
       "      <td>44</td>\n",
       "      <td>5</td>\n",
       "      <td>43</td>\n",
       "    </tr>\n",
       "    <tr>\n",
       "      <th>13</th>\n",
       "      <td>14</td>\n",
       "      <td>34</td>\n",
       "      <td>8</td>\n",
       "      <td>79</td>\n",
       "    </tr>\n",
       "    <tr>\n",
       "      <th>14</th>\n",
       "      <td>15</td>\n",
       "      <td>37</td>\n",
       "      <td>9</td>\n",
       "      <td>86</td>\n",
       "    </tr>\n",
       "    <tr>\n",
       "      <th>15</th>\n",
       "      <td>16</td>\n",
       "      <td>68</td>\n",
       "      <td>10</td>\n",
       "      <td>91</td>\n",
       "    </tr>\n",
       "    <tr>\n",
       "      <th>16</th>\n",
       "      <td>17</td>\n",
       "      <td>25</td>\n",
       "      <td>4</td>\n",
       "      <td>34</td>\n",
       "    </tr>\n",
       "    <tr>\n",
       "      <th>17</th>\n",
       "      <td>18</td>\n",
       "      <td>26</td>\n",
       "      <td>3</td>\n",
       "      <td>22</td>\n",
       "    </tr>\n",
       "    <tr>\n",
       "      <th>18</th>\n",
       "      <td>19</td>\n",
       "      <td>21</td>\n",
       "      <td>6</td>\n",
       "      <td>48</td>\n",
       "    </tr>\n",
       "    <tr>\n",
       "      <th>19</th>\n",
       "      <td>20</td>\n",
       "      <td>21</td>\n",
       "      <td>10</td>\n",
       "      <td>97</td>\n",
       "    </tr>\n",
       "    <tr>\n",
       "      <th>20</th>\n",
       "      <td>21</td>\n",
       "      <td>19</td>\n",
       "      <td>11</td>\n",
       "      <td>119</td>\n",
       "    </tr>\n",
       "    <tr>\n",
       "      <th>21</th>\n",
       "      <td>22</td>\n",
       "      <td>19</td>\n",
       "      <td>8</td>\n",
       "      <td>66</td>\n",
       "    </tr>\n",
       "    <tr>\n",
       "      <th>22</th>\n",
       "      <td>23</td>\n",
       "      <td>18</td>\n",
       "      <td>7</td>\n",
       "      <td>56</td>\n",
       "    </tr>\n",
       "    <tr>\n",
       "      <th>23</th>\n",
       "      <td>24</td>\n",
       "      <td>33</td>\n",
       "      <td>9</td>\n",
       "      <td>99</td>\n",
       "    </tr>\n",
       "    <tr>\n",
       "      <th>24</th>\n",
       "      <td>25</td>\n",
       "      <td>31</td>\n",
       "      <td>5</td>\n",
       "      <td>49</td>\n",
       "    </tr>\n",
       "    <tr>\n",
       "      <th>25</th>\n",
       "      <td>26</td>\n",
       "      <td>30</td>\n",
       "      <td>9</td>\n",
       "      <td>82</td>\n",
       "    </tr>\n",
       "    <tr>\n",
       "      <th>26</th>\n",
       "      <td>27</td>\n",
       "      <td>53</td>\n",
       "      <td>9</td>\n",
       "      <td>93</td>\n",
       "    </tr>\n",
       "    <tr>\n",
       "      <th>27</th>\n",
       "      <td>28</td>\n",
       "      <td>44</td>\n",
       "      <td>8</td>\n",
       "      <td>72</td>\n",
       "    </tr>\n",
       "    <tr>\n",
       "      <th>28</th>\n",
       "      <td>29</td>\n",
       "      <td>42</td>\n",
       "      <td>9</td>\n",
       "      <td>81</td>\n",
       "    </tr>\n",
       "    <tr>\n",
       "      <th>29</th>\n",
       "      <td>30</td>\n",
       "      <td>28</td>\n",
       "      <td>7</td>\n",
       "      <td>68</td>\n",
       "    </tr>\n",
       "  </tbody>\n",
       "</table>\n",
       "</div>"
      ],
      "text/plain": [
       "    Serial.No  Age  Hours  Pages\n",
       "0           1   22      9    110\n",
       "1           2   32     12    121\n",
       "2           3   21      7     80\n",
       "3           4   22      8     88\n",
       "4           5   32     10     90\n",
       "5           6   44     11    102\n",
       "6           7   22     12    109\n",
       "7           8   56     10     98\n",
       "8           9   72      9     81\n",
       "9          10   10      6     53\n",
       "10         11   22      7     61\n",
       "11         12   23      8     77\n",
       "12         13   44      5     43\n",
       "13         14   34      8     79\n",
       "14         15   37      9     86\n",
       "15         16   68     10     91\n",
       "16         17   25      4     34\n",
       "17         18   26      3     22\n",
       "18         19   21      6     48\n",
       "19         20   21     10     97\n",
       "20         21   19     11    119\n",
       "21         22   19      8     66\n",
       "22         23   18      7     56\n",
       "23         24   33      9     99\n",
       "24         25   31      5     49\n",
       "25         26   30      9     82\n",
       "26         27   53      9     93\n",
       "27         28   44      8     72\n",
       "28         29   42      9     81\n",
       "29         30   28      7     68"
      ]
     },
     "execution_count": 44,
     "metadata": {},
     "output_type": "execute_result"
    }
   ],
   "source": [
    "my_data     # This is my data and we are going to calculate svd here "
   ]
  },
  {
   "cell_type": "code",
   "execution_count": 45,
   "id": "fcd1fff4",
   "metadata": {},
   "outputs": [
    {
     "data": {
      "text/plain": [
       "(30, 4)"
      ]
     },
     "execution_count": 45,
     "metadata": {},
     "output_type": "execute_result"
    }
   ],
   "source": [
    "my_data.shape # checking the dimension of my data :"
   ]
  },
  {
   "cell_type": "code",
   "execution_count": 46,
   "id": "1852b376",
   "metadata": {},
   "outputs": [
    {
     "data": {
      "text/plain": [
       "array([[  1,  22,   9, 110],\n",
       "       [  2,  32,  12, 121],\n",
       "       [  3,  21,   7,  80],\n",
       "       [  4,  22,   8,  88],\n",
       "       [  5,  32,  10,  90],\n",
       "       [  6,  44,  11, 102],\n",
       "       [  7,  22,  12, 109],\n",
       "       [  8,  56,  10,  98],\n",
       "       [  9,  72,   9,  81],\n",
       "       [ 10,  10,   6,  53],\n",
       "       [ 11,  22,   7,  61],\n",
       "       [ 12,  23,   8,  77],\n",
       "       [ 13,  44,   5,  43],\n",
       "       [ 14,  34,   8,  79],\n",
       "       [ 15,  37,   9,  86],\n",
       "       [ 16,  68,  10,  91],\n",
       "       [ 17,  25,   4,  34],\n",
       "       [ 18,  26,   3,  22],\n",
       "       [ 19,  21,   6,  48],\n",
       "       [ 20,  21,  10,  97],\n",
       "       [ 21,  19,  11, 119],\n",
       "       [ 22,  19,   8,  66],\n",
       "       [ 23,  18,   7,  56],\n",
       "       [ 24,  33,   9,  99],\n",
       "       [ 25,  31,   5,  49],\n",
       "       [ 26,  30,   9,  82],\n",
       "       [ 27,  53,   9,  93],\n",
       "       [ 28,  44,   8,  72],\n",
       "       [ 29,  42,   9,  81],\n",
       "       [ 30,  28,   7,  68]], dtype=int64)"
      ]
     },
     "execution_count": 46,
     "metadata": {},
     "output_type": "execute_result"
    }
   ],
   "source": [
    "Array_matrix = my_data.to_numpy()   #converting my data into array form\n",
    "Array_matrix"
   ]
  },
  {
   "cell_type": "code",
   "execution_count": 47,
   "id": "ab07eb0c",
   "metadata": {},
   "outputs": [
    {
     "data": {
      "text/plain": [
       "array([[  1,   2,   3,   4,   5,   6,   7,   8,   9,  10,  11,  12,  13,\n",
       "         14,  15,  16,  17,  18,  19,  20,  21,  22,  23,  24,  25,  26,\n",
       "         27,  28,  29,  30],\n",
       "       [ 22,  32,  21,  22,  32,  44,  22,  56,  72,  10,  22,  23,  44,\n",
       "         34,  37,  68,  25,  26,  21,  21,  19,  19,  18,  33,  31,  30,\n",
       "         53,  44,  42,  28],\n",
       "       [  9,  12,   7,   8,  10,  11,  12,  10,   9,   6,   7,   8,   5,\n",
       "          8,   9,  10,   4,   3,   6,  10,  11,   8,   7,   9,   5,   9,\n",
       "          9,   8,   9,   7],\n",
       "       [110, 121,  80,  88,  90, 102, 109,  98,  81,  53,  61,  77,  43,\n",
       "         79,  86,  91,  34,  22,  48,  97, 119,  66,  56,  99,  49,  82,\n",
       "         93,  72,  81,  68]], dtype=int64)"
      ]
     },
     "execution_count": 47,
     "metadata": {},
     "output_type": "execute_result"
    }
   ],
   "source": [
    "tp_matrix= Array_matrix.transpose()  # taking tranpose of the matrix which is created .\n",
    "tp_matrix"
   ]
  },
  {
   "cell_type": "code",
   "execution_count": 48,
   "id": "b06cd1d2",
   "metadata": {},
   "outputs": [
    {
     "data": {
      "text/plain": [
       "array([[  9455,  15231,   3669,  34532],\n",
       "       [ 15231,  37867,   8210,  78224],\n",
       "       [  3669,   8210,   2160,  20818],\n",
       "       [ 34532,  78224,  20818, 202611]], dtype=int64)"
      ]
     },
     "execution_count": 48,
     "metadata": {},
     "output_type": "execute_result"
    }
   ],
   "source": [
    "rd_matrix = np.dot(tp_matrix,Array_matrix) # Reducing the dimension of that matrix \n",
    "rd_matrix"
   ]
  },
  {
   "cell_type": "code",
   "execution_count": 49,
   "id": "3838ec60",
   "metadata": {},
   "outputs": [
    {
     "data": {
      "text/plain": [
       "(array([2.42148961e+05, 7.10456556e+03, 2.82449002e+03, 1.49830186e+01]),\n",
       " array([[ 0.16074424,  0.32369266, -0.93206823,  0.02516277],\n",
       "        [ 0.36505389,  0.85786183,  0.3613147 ,  0.01613767],\n",
       "        [ 0.09407241, -0.01467674, -0.015744  , -0.99533266],\n",
       "        [ 0.91216628, -0.39884927,  0.021275  ,  0.0917568 ]]))"
      ]
     },
     "execution_count": 49,
     "metadata": {},
     "output_type": "execute_result"
    }
   ],
   "source": [
    "eig= np.linalg.eig(rd_matrix)  # need to find out the eigan values and the corosponding eigan vectors :\n",
    "eig    "
   ]
  },
  {
   "cell_type": "code",
   "execution_count": 50,
   "id": "bc6f0a08",
   "metadata": {},
   "outputs": [
    {
     "name": "stdout",
     "output_type": "stream",
     "text": [
      "The eigan values are  [2.42148961e+05 7.10456556e+03 2.82449002e+03 1.49830186e+01]\n",
      "Corosponding Eigan vectors are [[ 0.16074424  0.32369266 -0.93206823  0.02516277]\n",
      " [ 0.36505389  0.85786183  0.3613147   0.01613767]\n",
      " [ 0.09407241 -0.01467674 -0.015744   -0.99533266]\n",
      " [ 0.91216628 -0.39884927  0.021275    0.0917568 ]]\n"
     ]
    }
   ],
   "source": [
    "eigan ,eig_vect = eig\n",
    "print(\"The eigan values are \",eigan)\n",
    "print(\"Corosponding Eigan vectors are\",eig_vect)"
   ]
  },
  {
   "cell_type": "code",
   "execution_count": 51,
   "id": "1049c639",
   "metadata": {},
   "outputs": [
    {
     "data": {
      "text/plain": [
       "array([0.22227171, 0.25098076, 0.1661907 , 0.18227975, 0.19411459,\n",
       "       0.22577866, 0.2229515 , 0.22772831, 0.20822098, 0.11007668,\n",
       "       0.13432607, 0.16524449, 0.11755165, 0.17776549, 0.19348456,\n",
       "       0.22626808, 0.08788893, 0.06652221, 0.11190859, 0.20382982,\n",
       "       0.24364472, 0.14515329, 0.12601022, 0.21755482, 0.12294954,\n",
       "       0.18447018, 0.22224975, 0.1767815 , 0.19249867, 0.15795938])"
      ]
     },
     "execution_count": 51,
     "metadata": {},
     "output_type": "execute_result"
    }
   ],
   "source": [
    "mat_1=Array_matrix@eig_vect[:,0]/norm(Array_matrix@eig_vect[:,0]) # here we are going to compute SVD . This is the first step .\n",
    "mat_2=Array_matrix@eig_vect[:,1]/norm(Array_matrix@eig_vect[:,1])\n",
    "mat_1"
   ]
  },
  {
   "cell_type": "code",
   "execution_count": 52,
   "id": "ac26cb50",
   "metadata": {},
   "outputs": [
    {
     "data": {
      "text/plain": [
       "array([-0.29433235, -0.24128912, -0.15452273, -0.17853448, -0.08272959,\n",
       "       -0.0137147 , -0.26708103,  0.1351999 ,  0.38250024, -0.11165838,\n",
       "       -0.0237157 , -0.08558304,  0.29339706,  0.02458807,  0.02566362,\n",
       "        0.32117796,  0.15814406,  0.22911953,  0.05851841, -0.17020329,\n",
       "       -0.29099535, -0.0358394 ,  0.00531683, -0.0419998 ,  0.17877908,\n",
       "        0.01559088,  0.20146626,  0.21325253,  0.1539758 ,  0.07719223])"
      ]
     },
     "execution_count": 52,
     "metadata": {},
     "output_type": "execute_result"
    }
   ],
   "source": [
    "mat_2"
   ]
  },
  {
   "cell_type": "code",
   "execution_count": 53,
   "id": "96293c7a",
   "metadata": {},
   "outputs": [
    {
     "data": {
      "text/plain": [
       "array([[ 0.22227171, -0.29433235],\n",
       "       [ 0.25098076, -0.24128912],\n",
       "       [ 0.1661907 , -0.15452273],\n",
       "       [ 0.18227975, -0.17853448],\n",
       "       [ 0.19411459, -0.08272959],\n",
       "       [ 0.22577866, -0.0137147 ],\n",
       "       [ 0.2229515 , -0.26708103],\n",
       "       [ 0.22772831,  0.1351999 ],\n",
       "       [ 0.20822098,  0.38250024],\n",
       "       [ 0.11007668, -0.11165838],\n",
       "       [ 0.13432607, -0.0237157 ],\n",
       "       [ 0.16524449, -0.08558304],\n",
       "       [ 0.11755165,  0.29339706],\n",
       "       [ 0.17776549,  0.02458807],\n",
       "       [ 0.19348456,  0.02566362],\n",
       "       [ 0.22626808,  0.32117796],\n",
       "       [ 0.08788893,  0.15814406],\n",
       "       [ 0.06652221,  0.22911953],\n",
       "       [ 0.11190859,  0.05851841],\n",
       "       [ 0.20382982, -0.17020329],\n",
       "       [ 0.24364472, -0.29099535],\n",
       "       [ 0.14515329, -0.0358394 ],\n",
       "       [ 0.12601022,  0.00531683],\n",
       "       [ 0.21755482, -0.0419998 ],\n",
       "       [ 0.12294954,  0.17877908],\n",
       "       [ 0.18447018,  0.01559088],\n",
       "       [ 0.22224975,  0.20146626],\n",
       "       [ 0.1767815 ,  0.21325253],\n",
       "       [ 0.19249867,  0.1539758 ],\n",
       "       [ 0.15795938,  0.07719223]])"
      ]
     },
     "execution_count": 53,
     "metadata": {},
     "output_type": "execute_result"
    }
   ],
   "source": [
    "ortho_mat=np.array([mat_1,mat_2]).T   # Finding the orthogonal matrix named as ortho_mat.\n",
    "ortho_mat"
   ]
  },
  {
   "cell_type": "code",
   "execution_count": 54,
   "id": "f7873a8c",
   "metadata": {},
   "outputs": [
    {
     "data": {
      "text/plain": [
       "array([[492.08633531,  -0.        ,  -0.        ,  -0.        ],\n",
       "       [ -0.        ,  84.28858501,   0.        ,   0.        ]])"
      ]
     },
     "execution_count": 54,
     "metadata": {},
     "output_type": "execute_result"
    }
   ],
   "source": [
    "daig_mat= np.round(ortho_mat.T@Array_matrix@eig_vect,decimals=8) # Finding the diagonal matrix named daig_mat \n",
    "daig_mat"
   ]
  },
  {
   "cell_type": "code",
   "execution_count": 55,
   "id": "f7a16b2f",
   "metadata": {},
   "outputs": [
    {
     "data": {
      "text/plain": [
       "array([[  9.55125703,  18.64588151,  10.65345941, 109.66488982],\n",
       "       [ 13.26935392,  27.63856586,  11.9168326 , 120.7681328 ],\n",
       "       [  8.92975596,  18.68094755,   7.88441549,  79.79193039],\n",
       "       [  9.54727349,  19.83491191,   8.65891017,  87.82097158],\n",
       "       [ 13.0973115 ,  28.88835476,   9.08824693,  89.91239848],\n",
       "       [ 17.48491538,  39.56675213,  10.46865534, 101.80510713],\n",
       "       [ 10.34854257,  20.73848522,  10.65121607, 109.05387758],\n",
       "       [ 21.70205892,  50.68469498,  10.37468871,  97.67396064],\n",
       "       [ 26.90627076,  65.06221921,   9.16572945,  80.60395758],\n",
       "       [  5.66062778,  11.70016819,   5.23377242,  53.16330021],\n",
       "       [  9.97814808,  22.41523641,   6.24752687,  61.09149659],\n",
       "       [ 10.73583275,  23.49585909,   7.75532945,  77.0495623 ],\n",
       "       [ 17.30326717,  42.33168891,   5.07871526,  42.90121661],\n",
       "       [ 14.73210861,  33.7113553 ,   8.1986579 ,  78.96601541],\n",
       "       [ 16.00483302,  36.61286989,   8.92499086,  85.98559311],\n",
       "       [ 26.66070453,  63.87007518,  10.07702173,  90.76621881],\n",
       "       [ 11.266757  ,  27.22326902,   3.87289534,  34.1336706 ],\n",
       "       [ 11.51311498,  28.5170858 ,   2.79599018,  22.15682351],\n",
       "       [ 10.44856694,  24.3343856 ,   5.10805237,  48.26450311],\n",
       "       [ 11.47918972,  24.30853526,   9.64619427,  97.21395314],\n",
       "       [ 11.33290808,  22.72657789,  11.63872512, 119.14629037],\n",
       "       [ 10.50380387,  23.48357774,   6.76373598,  66.35903335],\n",
       "       [ 10.11247586,  23.02067658,   5.82665603,  56.38277782],\n",
       "       [ 16.06268992,  36.04419962,  10.12295028,  99.06461683],\n",
       "       [ 14.60304977,  35.01356293,   5.4703848 ,  49.17741594],\n",
       "       [ 15.01697438,  34.26520469,   8.52015999,  82.27798464],\n",
       "       [ 23.07668929,  54.49212275,  10.03909966,  92.98705692],\n",
       "       [ 19.80172034,  47.17653631,   7.91971422,  72.18173435],\n",
       "       [ 19.4276671 ,  45.71375918,   8.72061971,  81.22940674],\n",
       "       [ 14.60067501,  33.95712388,   7.21672271,  68.30728375]])"
      ]
     },
     "execution_count": 55,
     "metadata": {},
     "output_type": "execute_result"
    }
   ],
   "source": [
    "svd=ortho_mat@daig_mat@eig_vect.T   # here we are finding the svd values multiplying them and taking transpose .\n",
    "svd"
   ]
  },
  {
   "cell_type": "markdown",
   "id": "cc1dec6d",
   "metadata": {},
   "source": [
    "And Here the final answer . "
   ]
  },
  {
   "cell_type": "markdown",
   "id": "38eb100a",
   "metadata": {},
   "source": [
    "#                            Thank You ."
   ]
  }
 ],
 "metadata": {
  "kernelspec": {
   "display_name": "Python 3",
   "language": "python",
   "name": "python3"
  },
  "language_info": {
   "codemirror_mode": {
    "name": "ipython",
    "version": 3
   },
   "file_extension": ".py",
   "mimetype": "text/x-python",
   "name": "python",
   "nbconvert_exporter": "python",
   "pygments_lexer": "ipython3",
   "version": "3.8.8"
  }
 },
 "nbformat": 4,
 "nbformat_minor": 5
}
